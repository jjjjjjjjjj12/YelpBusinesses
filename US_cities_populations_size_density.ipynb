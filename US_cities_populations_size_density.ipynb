{
 "cells": [
  {
   "cell_type": "markdown",
   "metadata": {},
   "source": [
    "#### This Notebook:\n",
    "    1. Provides a ranking of US cities by population size and population density.\n",
    "    2. Provides a *filter* and a *search* function to make data collection easier."
   ]
  },
  {
   "cell_type": "code",
   "execution_count": 1,
   "metadata": {},
   "outputs": [],
   "source": [
    "import pandas as pd"
   ]
  },
  {
   "cell_type": "code",
   "execution_count": 2,
   "metadata": {},
   "outputs": [],
   "source": [
    "## Import Data Set: http://www.governing.com/gov-data/population-density-land-area-cities-map.html\n",
    "df = pd.read_csv('Population_Density.csv', header=None, error_bad_lines=False, sep=';')"
   ]
  },
  {
   "cell_type": "code",
   "execution_count": 3,
   "metadata": {},
   "outputs": [
    {
     "data": {
      "text/html": [
       "<div>\n",
       "<style scoped>\n",
       "    .dataframe tbody tr th:only-of-type {\n",
       "        vertical-align: middle;\n",
       "    }\n",
       "\n",
       "    .dataframe tbody tr th {\n",
       "        vertical-align: top;\n",
       "    }\n",
       "\n",
       "    .dataframe thead th {\n",
       "        text-align: right;\n",
       "    }\n",
       "</style>\n",
       "<table border=\"1\" class=\"dataframe\">\n",
       "  <thead>\n",
       "    <tr style=\"text-align: right;\">\n",
       "      <th></th>\n",
       "      <th>0</th>\n",
       "      <th>1</th>\n",
       "      <th>2</th>\n",
       "      <th>3</th>\n",
       "    </tr>\n",
       "  </thead>\n",
       "  <tbody>\n",
       "    <tr>\n",
       "      <th>0</th>\n",
       "      <td>Abilene_Texas</td>\n",
       "      <td>1145</td>\n",
       "      <td>122225</td>\n",
       "      <td>107</td>\n",
       "    </tr>\n",
       "    <tr>\n",
       "      <th>1</th>\n",
       "      <td>Akron_Ohio</td>\n",
       "      <td>3186</td>\n",
       "      <td>197633</td>\n",
       "      <td>62</td>\n",
       "    </tr>\n",
       "  </tbody>\n",
       "</table>\n",
       "</div>"
      ],
      "text/plain": [
       "               0     1       2    3\n",
       "0  Abilene_Texas  1145  122225  107\n",
       "1     Akron_Ohio  3186  197633   62"
      ]
     },
     "execution_count": 3,
     "metadata": {},
     "output_type": "execute_result"
    }
   ],
   "source": [
    "df.head(2)"
   ]
  },
  {
   "cell_type": "code",
   "execution_count": 4,
   "metadata": {},
   "outputs": [
    {
     "name": "stderr",
     "output_type": "stream",
     "text": [
      "/anaconda3/lib/python3.6/site-packages/ipykernel_launcher.py:1: FutureWarning: Using 'rename_axis' to alter labels is deprecated. Use '.rename' instead\n",
      "  \"\"\"Entry point for launching an IPython kernel.\n"
     ]
    }
   ],
   "source": [
    "## Renaming columns\n",
    "df = df.rename_axis({0:'City_State', 1:'Person_SQM', 2:'Pop_2016', 3:'Area_SQM'}, axis=1)"
   ]
  },
  {
   "cell_type": "code",
   "execution_count": 5,
   "metadata": {},
   "outputs": [
    {
     "data": {
      "text/plain": [
       "(754, 4)"
      ]
     },
     "execution_count": 5,
     "metadata": {},
     "output_type": "execute_result"
    }
   ],
   "source": [
    "df.shape"
   ]
  },
  {
   "cell_type": "code",
   "execution_count": 6,
   "metadata": {},
   "outputs": [],
   "source": [
    "## Sorting data by Population Size\n",
    "df = df.sort_values('Pop_2016', ascending=False)"
   ]
  },
  {
   "cell_type": "code",
   "execution_count": 7,
   "metadata": {},
   "outputs": [
    {
     "data": {
      "text/html": [
       "<div>\n",
       "<style scoped>\n",
       "    .dataframe tbody tr th:only-of-type {\n",
       "        vertical-align: middle;\n",
       "    }\n",
       "\n",
       "    .dataframe tbody tr th {\n",
       "        vertical-align: top;\n",
       "    }\n",
       "\n",
       "    .dataframe thead th {\n",
       "        text-align: right;\n",
       "    }\n",
       "</style>\n",
       "<table border=\"1\" class=\"dataframe\">\n",
       "  <thead>\n",
       "    <tr style=\"text-align: right;\">\n",
       "      <th></th>\n",
       "      <th>City_State</th>\n",
       "      <th>Person_SQM</th>\n",
       "      <th>Pop_2016</th>\n",
       "      <th>Area_SQM</th>\n",
       "    </tr>\n",
       "  </thead>\n",
       "  <tbody>\n",
       "    <tr>\n",
       "      <th>452</th>\n",
       "      <td>New York_New York</td>\n",
       "      <td>28211</td>\n",
       "      <td>8537673</td>\n",
       "      <td>303</td>\n",
       "    </tr>\n",
       "    <tr>\n",
       "      <th>379</th>\n",
       "      <td>Los Angeles_California</td>\n",
       "      <td>8484</td>\n",
       "      <td>3976322</td>\n",
       "      <td>469</td>\n",
       "    </tr>\n",
       "    <tr>\n",
       "      <th>119</th>\n",
       "      <td>Chicago_Illinois</td>\n",
       "      <td>11883</td>\n",
       "      <td>2704958</td>\n",
       "      <td>228</td>\n",
       "    </tr>\n",
       "    <tr>\n",
       "      <th>294</th>\n",
       "      <td>Houston_Texas</td>\n",
       "      <td>3842</td>\n",
       "      <td>2303482</td>\n",
       "      <td>600</td>\n",
       "    </tr>\n",
       "    <tr>\n",
       "      <th>520</th>\n",
       "      <td>Phoenix_Arizona</td>\n",
       "      <td>3126</td>\n",
       "      <td>1615017</td>\n",
       "      <td>517</td>\n",
       "    </tr>\n",
       "  </tbody>\n",
       "</table>\n",
       "</div>"
      ],
      "text/plain": [
       "                 City_State  Person_SQM  Pop_2016  Area_SQM\n",
       "452       New York_New York       28211   8537673       303\n",
       "379  Los Angeles_California        8484   3976322       469\n",
       "119        Chicago_Illinois       11883   2704958       228\n",
       "294           Houston_Texas        3842   2303482       600\n",
       "520         Phoenix_Arizona        3126   1615017       517"
      ]
     },
     "execution_count": 7,
     "metadata": {},
     "output_type": "execute_result"
    }
   ],
   "source": [
    "df.head()"
   ]
  },
  {
   "cell_type": "code",
   "execution_count": 8,
   "metadata": {},
   "outputs": [],
   "source": [
    "# Filter function\n",
    "def filter(Person_SQM = 1000, Area_SQM = 303, By = 'Pop_2016'):\n",
    "    filtered = df[(df['Person_SQM'] > Person_SQM) & (df['Area_SQM'] > Area_SQM)].sort_values('Pop_2016', ascending=False)\n",
    "    return(filtered)"
   ]
  },
  {
   "cell_type": "code",
   "execution_count": 10,
   "metadata": {},
   "outputs": [
    {
     "data": {
      "text/html": [
       "<div>\n",
       "<style scoped>\n",
       "    .dataframe tbody tr th:only-of-type {\n",
       "        vertical-align: middle;\n",
       "    }\n",
       "\n",
       "    .dataframe tbody tr th {\n",
       "        vertical-align: top;\n",
       "    }\n",
       "\n",
       "    .dataframe thead th {\n",
       "        text-align: right;\n",
       "    }\n",
       "</style>\n",
       "<table border=\"1\" class=\"dataframe\">\n",
       "  <thead>\n",
       "    <tr style=\"text-align: right;\">\n",
       "      <th></th>\n",
       "      <th>City_State</th>\n",
       "      <th>Person_SQM</th>\n",
       "      <th>Pop_2016</th>\n",
       "      <th>Area_SQM</th>\n",
       "    </tr>\n",
       "  </thead>\n",
       "  <tbody>\n",
       "    <tr>\n",
       "      <th>379</th>\n",
       "      <td>Los Angeles_California</td>\n",
       "      <td>8484</td>\n",
       "      <td>3976322</td>\n",
       "      <td>469</td>\n",
       "    </tr>\n",
       "    <tr>\n",
       "      <th>294</th>\n",
       "      <td>Houston_Texas</td>\n",
       "      <td>3842</td>\n",
       "      <td>2303482</td>\n",
       "      <td>600</td>\n",
       "    </tr>\n",
       "    <tr>\n",
       "      <th>520</th>\n",
       "      <td>Phoenix_Arizona</td>\n",
       "      <td>3126</td>\n",
       "      <td>1615017</td>\n",
       "      <td>517</td>\n",
       "    </tr>\n",
       "    <tr>\n",
       "      <th>590</th>\n",
       "      <td>San Antonio_Texas</td>\n",
       "      <td>3238</td>\n",
       "      <td>1492510</td>\n",
       "      <td>461</td>\n",
       "    </tr>\n",
       "    <tr>\n",
       "      <th>594</th>\n",
       "      <td>San Diego_California</td>\n",
       "      <td>4326</td>\n",
       "      <td>1406630</td>\n",
       "      <td>325</td>\n",
       "    </tr>\n",
       "    <tr>\n",
       "      <th>309</th>\n",
       "      <td>Jacksonville_Florida</td>\n",
       "      <td>1179</td>\n",
       "      <td>880619</td>\n",
       "      <td>747</td>\n",
       "    </tr>\n",
       "    <tr>\n",
       "      <th>301</th>\n",
       "      <td>Indianapolis_Indiana</td>\n",
       "      <td>2366</td>\n",
       "      <td>855164</td>\n",
       "      <td>361</td>\n",
       "    </tr>\n",
       "    <tr>\n",
       "      <th>232</th>\n",
       "      <td>Fort Worth_Texas</td>\n",
       "      <td>2513</td>\n",
       "      <td>854113</td>\n",
       "      <td>340</td>\n",
       "    </tr>\n",
       "    <tr>\n",
       "      <th>403</th>\n",
       "      <td>Memphis_Tennessee</td>\n",
       "      <td>2072</td>\n",
       "      <td>652717</td>\n",
       "      <td>315</td>\n",
       "    </tr>\n",
       "    <tr>\n",
       "      <th>479</th>\n",
       "      <td>Oklahoma City_Oklahoma</td>\n",
       "      <td>1053</td>\n",
       "      <td>638367</td>\n",
       "      <td>606</td>\n",
       "    </tr>\n",
       "    <tr>\n",
       "      <th>380</th>\n",
       "      <td>Louisville_Kentucky</td>\n",
       "      <td>1895</td>\n",
       "      <td>616261</td>\n",
       "      <td>325</td>\n",
       "    </tr>\n",
       "    <tr>\n",
       "      <th>321</th>\n",
       "      <td>Kansas City_Missouri</td>\n",
       "      <td>1529</td>\n",
       "      <td>48142</td>\n",
       "      <td>315</td>\n",
       "    </tr>\n",
       "  </tbody>\n",
       "</table>\n",
       "</div>"
      ],
      "text/plain": [
       "                 City_State  Person_SQM  Pop_2016  Area_SQM\n",
       "379  Los Angeles_California        8484   3976322       469\n",
       "294           Houston_Texas        3842   2303482       600\n",
       "520         Phoenix_Arizona        3126   1615017       517\n",
       "590       San Antonio_Texas        3238   1492510       461\n",
       "594    San Diego_California        4326   1406630       325\n",
       "309    Jacksonville_Florida        1179    880619       747\n",
       "301    Indianapolis_Indiana        2366    855164       361\n",
       "232        Fort Worth_Texas        2513    854113       340\n",
       "403       Memphis_Tennessee        2072    652717       315\n",
       "479  Oklahoma City_Oklahoma        1053    638367       606\n",
       "380     Louisville_Kentucky        1895    616261       325\n",
       "321    Kansas City_Missouri        1529     48142       315"
      ]
     },
     "execution_count": 10,
     "metadata": {},
     "output_type": "execute_result"
    }
   ],
   "source": [
    "filter()"
   ]
  },
  {
   "cell_type": "code",
   "execution_count": 11,
   "metadata": {},
   "outputs": [],
   "source": [
    "# Find by City Keyword Function\n",
    "def search_city_row(search):\n",
    "    return(df[df['City_State'].str.contains(search)])"
   ]
  },
  {
   "cell_type": "code",
   "execution_count": 12,
   "metadata": {},
   "outputs": [
    {
     "data": {
      "text/html": [
       "<div>\n",
       "<style scoped>\n",
       "    .dataframe tbody tr th:only-of-type {\n",
       "        vertical-align: middle;\n",
       "    }\n",
       "\n",
       "    .dataframe tbody tr th {\n",
       "        vertical-align: top;\n",
       "    }\n",
       "\n",
       "    .dataframe thead th {\n",
       "        text-align: right;\n",
       "    }\n",
       "</style>\n",
       "<table border=\"1\" class=\"dataframe\">\n",
       "  <thead>\n",
       "    <tr style=\"text-align: right;\">\n",
       "      <th></th>\n",
       "      <th>City_State</th>\n",
       "      <th>Person_SQM</th>\n",
       "      <th>Pop_2016</th>\n",
       "      <th>Area_SQM</th>\n",
       "    </tr>\n",
       "  </thead>\n",
       "  <tbody>\n",
       "    <tr>\n",
       "      <th>140</th>\n",
       "      <td>Columbus_Georgia</td>\n",
       "      <td>913</td>\n",
       "      <td>197485</td>\n",
       "      <td>216</td>\n",
       "    </tr>\n",
       "    <tr>\n",
       "      <th>139</th>\n",
       "      <td>Columbia_South Carolina</td>\n",
       "      <td>1016</td>\n",
       "      <td>134309</td>\n",
       "      <td>132</td>\n",
       "    </tr>\n",
       "    <tr>\n",
       "      <th>138</th>\n",
       "      <td>Columbia_Missouri</td>\n",
       "      <td>1912</td>\n",
       "      <td>120612</td>\n",
       "      <td>63</td>\n",
       "    </tr>\n",
       "    <tr>\n",
       "      <th>141</th>\n",
       "      <td>Columbus_Ohio</td>\n",
       "      <td>396</td>\n",
       "      <td>86009</td>\n",
       "      <td>217</td>\n",
       "    </tr>\n",
       "    <tr>\n",
       "      <th>714</th>\n",
       "      <td>Washington_District of Columbia</td>\n",
       "      <td>11158</td>\n",
       "      <td>68117</td>\n",
       "      <td>61</td>\n",
       "    </tr>\n",
       "  </tbody>\n",
       "</table>\n",
       "</div>"
      ],
      "text/plain": [
       "                          City_State  Person_SQM  Pop_2016  Area_SQM\n",
       "140                 Columbus_Georgia         913    197485       216\n",
       "139          Columbia_South Carolina        1016    134309       132\n",
       "138                Columbia_Missouri        1912    120612        63\n",
       "141                    Columbus_Ohio         396     86009       217\n",
       "714  Washington_District of Columbia       11158     68117        61"
      ]
     },
     "execution_count": 12,
     "metadata": {},
     "output_type": "execute_result"
    }
   ],
   "source": [
    "search_city_row(search= 'Colu')"
   ]
  }
 ],
 "metadata": {
  "kernelspec": {
   "display_name": "Python 3",
   "language": "python",
   "name": "python3"
  },
  "language_info": {
   "codemirror_mode": {
    "name": "ipython",
    "version": 3
   },
   "file_extension": ".py",
   "mimetype": "text/x-python",
   "name": "python",
   "nbconvert_exporter": "python",
   "pygments_lexer": "ipython3",
   "version": "3.6.6"
  }
 },
 "nbformat": 4,
 "nbformat_minor": 2
}
