{
 "cells": [
  {
   "cell_type": "code",
   "execution_count": 1,
   "metadata": {},
   "outputs": [
    {
     "name": "stderr",
     "output_type": "stream",
     "text": [
      "C:\\Users\\Jason\\AppData\\Local\\conda\\conda\\envs\\DSI-6\\lib\\site-packages\\sklearn\\ensemble\\weight_boosting.py:29: DeprecationWarning: numpy.core.umath_tests is an internal NumPy module and should not be imported. It will be removed in a future NumPy release.\n",
      "  from numpy.core.umath_tests import inner1d\n"
     ]
    }
   ],
   "source": [
    "%run imports_and_functions.ipynb"
   ]
  },
  {
   "cell_type": "code",
   "execution_count": null,
   "metadata": {},
   "outputs": [],
   "source": []
  },
  {
   "cell_type": "markdown",
   "metadata": {},
   "source": [
    "### Business Vectorize Functions for a Location "
   ]
  },
  {
   "cell_type": "code",
   "execution_count": 2,
   "metadata": {},
   "outputs": [],
   "source": [
    "df = pd.read_csv('LasVegasBusinessesFinal.csv',sep=';',compression='gzip')"
   ]
  },
  {
   "cell_type": "code",
   "execution_count": 3,
   "metadata": {},
   "outputs": [
    {
     "data": {
      "text/html": [
       "<div>\n",
       "<style scoped>\n",
       "    .dataframe tbody tr th:only-of-type {\n",
       "        vertical-align: middle;\n",
       "    }\n",
       "\n",
       "    .dataframe tbody tr th {\n",
       "        vertical-align: top;\n",
       "    }\n",
       "\n",
       "    .dataframe thead th {\n",
       "        text-align: right;\n",
       "    }\n",
       "</style>\n",
       "<table border=\"1\" class=\"dataframe\">\n",
       "  <thead>\n",
       "    <tr style=\"text-align: right;\">\n",
       "      <th></th>\n",
       "      <th>address</th>\n",
       "      <th>attributes</th>\n",
       "      <th>categories</th>\n",
       "      <th>city</th>\n",
       "      <th>latitude</th>\n",
       "      <th>longitude</th>\n",
       "      <th>name</th>\n",
       "      <th>neighborhood</th>\n",
       "      <th>postal_code</th>\n",
       "      <th>review_count</th>\n",
       "      <th>stars</th>\n",
       "      <th>state</th>\n",
       "      <th>price</th>\n",
       "      <th>main_category</th>\n",
       "    </tr>\n",
       "  </thead>\n",
       "  <tbody>\n",
       "    <tr>\n",
       "      <th>0</th>\n",
       "      <td>703 N Rancho Dr</td>\n",
       "      <td>{'BusinessAcceptsCreditCards': 'True', 'Busine...</td>\n",
       "      <td>Shopping, Fashion, Department Stores</td>\n",
       "      <td>Las Vegas</td>\n",
       "      <td>36.178348</td>\n",
       "      <td>-115.176916</td>\n",
       "      <td>Citi Trends</td>\n",
       "      <td>NaN</td>\n",
       "      <td>89106</td>\n",
       "      <td>4</td>\n",
       "      <td>4.0</td>\n",
       "      <td>NV</td>\n",
       "      <td>2</td>\n",
       "      <td>Shopping</td>\n",
       "    </tr>\n",
       "    <tr>\n",
       "      <th>1</th>\n",
       "      <td>1549 N Rancho Dr</td>\n",
       "      <td>NaN</td>\n",
       "      <td>Financial Services, Check Cashing/Pay-day Loan...</td>\n",
       "      <td>Las Vegas</td>\n",
       "      <td>36.188386</td>\n",
       "      <td>-115.186124</td>\n",
       "      <td>Nevada Title And Payday Loans</td>\n",
       "      <td>NaN</td>\n",
       "      <td>89106</td>\n",
       "      <td>4</td>\n",
       "      <td>1.0</td>\n",
       "      <td>NV</td>\n",
       "      <td>0</td>\n",
       "      <td>Financial Services</td>\n",
       "    </tr>\n",
       "    <tr>\n",
       "      <th>2</th>\n",
       "      <td>3940 Martin Luther King Blvd, Ste 101</td>\n",
       "      <td>{'BikeParking': 'True', 'BusinessAcceptsCredit...</td>\n",
       "      <td>American (Traditional), Food, Bakeries, Restau...</td>\n",
       "      <td>Las Vegas</td>\n",
       "      <td>36.192284</td>\n",
       "      <td>-115.159272</td>\n",
       "      <td>CakesbyToi</td>\n",
       "      <td>NaN</td>\n",
       "      <td>89106</td>\n",
       "      <td>3</td>\n",
       "      <td>1.5</td>\n",
       "      <td>NV</td>\n",
       "      <td>0</td>\n",
       "      <td>Food, Restaurants</td>\n",
       "    </tr>\n",
       "    <tr>\n",
       "      <th>3</th>\n",
       "      <td>NaN</td>\n",
       "      <td>{'BusinessAcceptsCreditCards': 'True'}</td>\n",
       "      <td>Home Services, Masonry/Concrete, Professional ...</td>\n",
       "      <td>Las Vegas</td>\n",
       "      <td>36.260816</td>\n",
       "      <td>-115.171130</td>\n",
       "      <td>Park Stone Pavers</td>\n",
       "      <td>NaN</td>\n",
       "      <td>0</td>\n",
       "      <td>20</td>\n",
       "      <td>5.0</td>\n",
       "      <td>NV</td>\n",
       "      <td>0</td>\n",
       "      <td>Home Services, Professional Services</td>\n",
       "    </tr>\n",
       "    <tr>\n",
       "      <th>4</th>\n",
       "      <td>2255 N Rampart Blvd</td>\n",
       "      <td>{'Alcohol': 'none', 'Ambience': \"{'romantic': ...</td>\n",
       "      <td>Fast Food, Restaurants, Sandwiches</td>\n",
       "      <td>Las Vegas</td>\n",
       "      <td>36.201794</td>\n",
       "      <td>-115.281981</td>\n",
       "      <td>Subway</td>\n",
       "      <td>Summerlin</td>\n",
       "      <td>89128</td>\n",
       "      <td>13</td>\n",
       "      <td>2.5</td>\n",
       "      <td>NV</td>\n",
       "      <td>1</td>\n",
       "      <td>Food, Restaurants</td>\n",
       "    </tr>\n",
       "  </tbody>\n",
       "</table>\n",
       "</div>"
      ],
      "text/plain": [
       "                                 address  \\\n",
       "0                        703 N Rancho Dr   \n",
       "1                       1549 N Rancho Dr   \n",
       "2  3940 Martin Luther King Blvd, Ste 101   \n",
       "3                                    NaN   \n",
       "4                    2255 N Rampart Blvd   \n",
       "\n",
       "                                          attributes  \\\n",
       "0  {'BusinessAcceptsCreditCards': 'True', 'Busine...   \n",
       "1                                                NaN   \n",
       "2  {'BikeParking': 'True', 'BusinessAcceptsCredit...   \n",
       "3             {'BusinessAcceptsCreditCards': 'True'}   \n",
       "4  {'Alcohol': 'none', 'Ambience': \"{'romantic': ...   \n",
       "\n",
       "                                          categories       city   latitude  \\\n",
       "0               Shopping, Fashion, Department Stores  Las Vegas  36.178348   \n",
       "1  Financial Services, Check Cashing/Pay-day Loan...  Las Vegas  36.188386   \n",
       "2  American (Traditional), Food, Bakeries, Restau...  Las Vegas  36.192284   \n",
       "3  Home Services, Masonry/Concrete, Professional ...  Las Vegas  36.260816   \n",
       "4                 Fast Food, Restaurants, Sandwiches  Las Vegas  36.201794   \n",
       "\n",
       "    longitude                           name neighborhood  postal_code  \\\n",
       "0 -115.176916                    Citi Trends          NaN        89106   \n",
       "1 -115.186124  Nevada Title And Payday Loans          NaN        89106   \n",
       "2 -115.159272                     CakesbyToi          NaN        89106   \n",
       "3 -115.171130              Park Stone Pavers          NaN            0   \n",
       "4 -115.281981                         Subway    Summerlin        89128   \n",
       "\n",
       "   review_count  stars state  price                         main_category  \n",
       "0             4    4.0    NV      2                              Shopping  \n",
       "1             4    1.0    NV      0                    Financial Services  \n",
       "2             3    1.5    NV      0                     Food, Restaurants  \n",
       "3            20    5.0    NV      0  Home Services, Professional Services  \n",
       "4            13    2.5    NV      1                     Food, Restaurants  "
      ]
     },
     "execution_count": 3,
     "metadata": {},
     "output_type": "execute_result"
    }
   ],
   "source": [
    "df.head()"
   ]
  },
  {
   "cell_type": "code",
   "execution_count": 5,
   "metadata": {},
   "outputs": [],
   "source": [
    "def cat_to_alias(catstring) :\n",
    "    lis = split.catstring(', ')\n",
    "    lis = map(get_alias,lis)\n",
    "    return ' '.join(lis)"
   ]
  },
  {
   "cell_type": "code",
   "execution_count": null,
   "metadata": {},
   "outputs": [],
   "source": [
    "def get_alias(cat) :\n",
    "    \n",
    "    "
   ]
  },
  {
   "cell_type": "code",
   "execution_count": null,
   "metadata": {},
   "outputs": [],
   "source": [
    "dict_2B = json.load('dict_2B.json')"
   ]
  },
  {
   "cell_type": "code",
   "execution_count": null,
   "metadata": {},
   "outputs": [],
   "source": []
  },
  {
   "cell_type": "code",
   "execution_count": null,
   "metadata": {},
   "outputs": [],
   "source": []
  }
 ],
 "metadata": {
  "kernelspec": {
   "display_name": "Python 3",
   "language": "python",
   "name": "python3"
  },
  "language_info": {
   "codemirror_mode": {
    "name": "ipython",
    "version": 3
   },
   "file_extension": ".py",
   "mimetype": "text/x-python",
   "name": "python",
   "nbconvert_exporter": "python",
   "pygments_lexer": "ipython3",
   "version": "3.6.6"
  }
 },
 "nbformat": 4,
 "nbformat_minor": 2
}
