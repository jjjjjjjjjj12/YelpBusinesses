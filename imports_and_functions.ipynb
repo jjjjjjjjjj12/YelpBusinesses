{
 "cells": [
  {
   "cell_type": "code",
   "execution_count": 4,
   "metadata": {},
   "outputs": [],
   "source": [
    "import requests, datetime, time, h5py, json\n",
    "import geopy.distance\n",
    "from uszipcode import Zipcode, SearchEngine\n",
    "\n",
    "import re, numpy as np, pandas as pd, seaborn as sns, matplotlib.pyplot as plt\n",
    "\n",
    "from sklearn.pipeline import Pipeline\n",
    "from sklearn.preprocessing import StandardScaler\n",
    "from sklearn.neighbors import KNeighborsClassifier\n",
    "from sklearn.linear_model import LogisticRegression, LinearRegression, LassoCV, RidgeCV\n",
    "from sklearn.preprocessing import PolynomialFeatures, StandardScaler\n",
    "from sklearn.model_selection import train_test_split, cross_val_score, cross_val_predict, GridSearchCV\n",
    "from sklearn.metrics import classification_report, confusion_matrix\n",
    "\n",
    "from sklearn.ensemble import RandomForestClassifier, ExtraTreesClassifier, BaggingClassifier, AdaBoostClassifier\n",
    "from sklearn.tree import DecisionTreeClassifier\n",
    "from sklearn import svm\n",
    "from sklearn.naive_bayes import MultinomialNB\n",
    "\n",
    "from bs4 import BeautifulSoup\n",
    "from sklearn.feature_extraction.text import CountVectorizer, TfidfVectorizer\n",
    "from sklearn.feature_extraction import stop_words\n",
    "import nltk\n",
    "from nltk.tokenize import RegexpTokenizer \n",
    "from nltk.stem import WordNetLemmatizer \n",
    "from nltk import pos_tag, word_tokenize\n",
    "\n",
    "%matplotlib inline\n",
    "pd.options.display.max_columns = 90\n",
    "pd.options.display.max_rows = 200"
   ]
  },
  {
   "cell_type": "code",
   "execution_count": 1,
   "metadata": {},
   "outputs": [],
   "source": [
    "features = ['alias', 'price', 'categories', 'coordinates', 'review_count',\n",
    "            'display_address', 'rating', 'distance', 'url']\n",
    "features_added = ['postal_code','main_category','latitude','longitude','city']\n",
    "\n",
    "search_radius = 1000  # in meters, 1600m is about 1 mile\n",
    "review_count_cutoff = 10\n",
    "\n",
    "main_categories = ['Active Life','Arts & Entertainment','Automotive','Beauty & Spas',\n",
    "'Education','Event Planning & Services','Financial Services','Food','Health & Medical',\n",
    "'Home Services','Hotels & Travel','Local Services','Mass Media','Nightlife','Pets',\n",
    "'Professional Services','Public Services & Government','Real estate','Religious Organizations',\n",
    "'Restaurants','Shopping']\n",
    "\n",
    "main_alias = ['active','arts','Automotive','beautysvc',\n",
    "'Education','eventservices','financialservices',\n",
    "'Food','health','homeservices','hotelstravel','localservices',\n",
    "'massmedia','Nightlife','Pets','professional','publicservicesgovt',\n",
    "'realestate','religiousorgs','Restaurants','Shopping']"
   ]
  },
  {
   "cell_type": "code",
   "execution_count": null,
   "metadata": {},
   "outputs": [],
   "source": [
    "def getPriceRange(string) :\n",
    "    regex = re.compile(\"RestaurantsPriceRange2\\\\': \\\\'(\\d)\")\n",
    "    try :\n",
    "        match = regex.search(string)\n",
    "        return int(match.groups(0)[0])\n",
    "    except : return 0"
   ]
  },
  {
   "cell_type": "code",
   "execution_count": 2,
   "metadata": {},
   "outputs": [],
   "source": [
    "def calcDist(lat1, long1, lat2, long2) :  # returns distance in meters\n",
    "    try : d = geopy.distance.distance((lat1,long1), (lat2,long2)).m\n",
    "    except : d = np.nan\n",
    "    return d"
   ]
  },
  {
   "cell_type": "code",
   "execution_count": null,
   "metadata": {},
   "outputs": [],
   "source": [
    "def calcDistances(lat, long, citydf) :\n",
    "    distances = pd.Series(index=citydf.index)\n",
    "    for index in citydf.index :\n",
    "        distances[index] = calcDist(lat, long, citydf.loc[index,'latitude'], citydf.loc[index,'longitude'])\n",
    "    return distances"
   ]
  },
  {
   "cell_type": "code",
   "execution_count": null,
   "metadata": {},
   "outputs": [],
   "source": [
    "def latlong_tozipcode(tupl) :\n",
    "    try :\n",
    "        (lat, long) = tupl\n",
    "        result = search.by_coordinates(lat, long, radius=10, returns=1)\n",
    "        int(result[0].to_dict()['zipcode'])\n",
    "    except : return 0\n",
    "    return int(result[0].to_dict()['zipcode'])"
   ]
  },
  {
   "cell_type": "code",
   "execution_count": null,
   "metadata": {},
   "outputs": [],
   "source": []
  }
 ],
 "metadata": {
  "kernelspec": {
   "display_name": "Python 3",
   "language": "python",
   "name": "python3"
  },
  "language_info": {
   "codemirror_mode": {
    "name": "ipython",
    "version": 3
   },
   "file_extension": ".py",
   "mimetype": "text/x-python",
   "name": "python",
   "nbconvert_exporter": "python",
   "pygments_lexer": "ipython3",
   "version": "3.6.6"
  }
 },
 "nbformat": 4,
 "nbformat_minor": 2
}
