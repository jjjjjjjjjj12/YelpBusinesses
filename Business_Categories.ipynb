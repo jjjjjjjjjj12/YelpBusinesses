{
 "cells": [
  {
   "cell_type": "markdown",
   "metadata": {},
   "source": [
    "#### This Notebook:\n",
    "    1. Determines the most frequent business categories in the Kaggle Data Set.\n",
    "    2. Develops dictionary and function to map Kaggle business categories: top 150 busine4ss categories are left as they are, the remaining are mapped to the corresponding Macro Category."
   ]
  },
  {
   "cell_type": "markdown",
   "metadata": {},
   "source": [
    "# 1. Assessing most frequent business categories in the Kaggle Data Set."
   ]
  },
  {
   "cell_type": "code",
   "execution_count": 1,
   "metadata": {},
   "outputs": [],
   "source": [
    "#%%timeit\n",
    "import pandas as pd\n",
    "import json\n",
    "import numpy as np\n",
    "import seaborn as sns\n",
    "import matplotlib.pyplot as plt\n",
    "from sklearn.feature_extraction.text import CountVectorizer\n",
    "from nltk.tokenize import RegexpTokenizer"
   ]
  },
  {
   "cell_type": "code",
   "execution_count": 2,
   "metadata": {},
   "outputs": [],
   "source": [
    "df = pd.read_json('./yelp_academic_dataset_business.json', lines=True)"
   ]
  },
  {
   "cell_type": "code",
   "execution_count": 3,
   "metadata": {},
   "outputs": [
    {
     "data": {
      "text/plain": [
       "(188593, 15)"
      ]
     },
     "execution_count": 3,
     "metadata": {},
     "output_type": "execute_result"
    }
   ],
   "source": [
    "df.shape"
   ]
  },
  {
   "cell_type": "code",
   "execution_count": 4,
   "metadata": {},
   "outputs": [
    {
     "data": {
      "text/html": [
       "<div>\n",
       "<style scoped>\n",
       "    .dataframe tbody tr th:only-of-type {\n",
       "        vertical-align: middle;\n",
       "    }\n",
       "\n",
       "    .dataframe tbody tr th {\n",
       "        vertical-align: top;\n",
       "    }\n",
       "\n",
       "    .dataframe thead th {\n",
       "        text-align: right;\n",
       "    }\n",
       "</style>\n",
       "<table border=\"1\" class=\"dataframe\">\n",
       "  <thead>\n",
       "    <tr style=\"text-align: right;\">\n",
       "      <th></th>\n",
       "      <th>address</th>\n",
       "      <th>attributes</th>\n",
       "      <th>business_id</th>\n",
       "      <th>categories</th>\n",
       "      <th>city</th>\n",
       "      <th>hours</th>\n",
       "      <th>is_open</th>\n",
       "      <th>latitude</th>\n",
       "      <th>longitude</th>\n",
       "      <th>name</th>\n",
       "      <th>neighborhood</th>\n",
       "      <th>postal_code</th>\n",
       "      <th>review_count</th>\n",
       "      <th>stars</th>\n",
       "      <th>state</th>\n",
       "    </tr>\n",
       "  </thead>\n",
       "  <tbody>\n",
       "    <tr>\n",
       "      <th>0</th>\n",
       "      <td>1314 44 Avenue NE</td>\n",
       "      <td>{'BikeParking': 'False', 'BusinessAcceptsCredi...</td>\n",
       "      <td>Apn5Q_b6Nz61Tq4XzPdf9A</td>\n",
       "      <td>Tours, Breweries, Pizza, Restaurants, Food, Ho...</td>\n",
       "      <td>Calgary</td>\n",
       "      <td>{'Monday': '8:30-17:0', 'Tuesday': '11:0-21:0'...</td>\n",
       "      <td>1</td>\n",
       "      <td>51.091813</td>\n",
       "      <td>-114.031675</td>\n",
       "      <td>Minhas Micro Brewery</td>\n",
       "      <td></td>\n",
       "      <td>T2E 6L6</td>\n",
       "      <td>24</td>\n",
       "      <td>4.0</td>\n",
       "      <td>AB</td>\n",
       "    </tr>\n",
       "    <tr>\n",
       "      <th>1</th>\n",
       "      <td></td>\n",
       "      <td>{'Alcohol': 'none', 'BikeParking': 'False', 'B...</td>\n",
       "      <td>AjEbIBw6ZFfln7ePHha9PA</td>\n",
       "      <td>Chicken Wings, Burgers, Caterers, Street Vendo...</td>\n",
       "      <td>Henderson</td>\n",
       "      <td>{'Friday': '17:0-23:0', 'Saturday': '17:0-23:0...</td>\n",
       "      <td>0</td>\n",
       "      <td>35.960734</td>\n",
       "      <td>-114.939821</td>\n",
       "      <td>CK'S BBQ &amp; Catering</td>\n",
       "      <td></td>\n",
       "      <td>89002</td>\n",
       "      <td>3</td>\n",
       "      <td>4.5</td>\n",
       "      <td>NV</td>\n",
       "    </tr>\n",
       "    <tr>\n",
       "      <th>2</th>\n",
       "      <td>1335 rue Beaubien E</td>\n",
       "      <td>{'Alcohol': 'beer_and_wine', 'Ambience': '{'ro...</td>\n",
       "      <td>O8S5hYJ1SMc8fA4QBtVujA</td>\n",
       "      <td>Breakfast &amp; Brunch, Restaurants, French, Sandw...</td>\n",
       "      <td>Montréal</td>\n",
       "      <td>{'Monday': '10:0-22:0', 'Tuesday': '10:0-22:0'...</td>\n",
       "      <td>0</td>\n",
       "      <td>45.540503</td>\n",
       "      <td>-73.599300</td>\n",
       "      <td>La Bastringue</td>\n",
       "      <td>Rosemont-La Petite-Patrie</td>\n",
       "      <td>H2G 1K7</td>\n",
       "      <td>5</td>\n",
       "      <td>4.0</td>\n",
       "      <td>QC</td>\n",
       "    </tr>\n",
       "  </tbody>\n",
       "</table>\n",
       "</div>"
      ],
      "text/plain": [
       "               address                                         attributes  \\\n",
       "0    1314 44 Avenue NE  {'BikeParking': 'False', 'BusinessAcceptsCredi...   \n",
       "1                       {'Alcohol': 'none', 'BikeParking': 'False', 'B...   \n",
       "2  1335 rue Beaubien E  {'Alcohol': 'beer_and_wine', 'Ambience': '{'ro...   \n",
       "\n",
       "              business_id                                         categories  \\\n",
       "0  Apn5Q_b6Nz61Tq4XzPdf9A  Tours, Breweries, Pizza, Restaurants, Food, Ho...   \n",
       "1  AjEbIBw6ZFfln7ePHha9PA  Chicken Wings, Burgers, Caterers, Street Vendo...   \n",
       "2  O8S5hYJ1SMc8fA4QBtVujA  Breakfast & Brunch, Restaurants, French, Sandw...   \n",
       "\n",
       "        city                                              hours  is_open  \\\n",
       "0    Calgary  {'Monday': '8:30-17:0', 'Tuesday': '11:0-21:0'...        1   \n",
       "1  Henderson  {'Friday': '17:0-23:0', 'Saturday': '17:0-23:0...        0   \n",
       "2   Montréal  {'Monday': '10:0-22:0', 'Tuesday': '10:0-22:0'...        0   \n",
       "\n",
       "    latitude   longitude                  name               neighborhood  \\\n",
       "0  51.091813 -114.031675  Minhas Micro Brewery                              \n",
       "1  35.960734 -114.939821   CK'S BBQ & Catering                              \n",
       "2  45.540503  -73.599300         La Bastringue  Rosemont-La Petite-Patrie   \n",
       "\n",
       "  postal_code  review_count  stars state  \n",
       "0     T2E 6L6            24    4.0    AB  \n",
       "1       89002             3    4.5    NV  \n",
       "2     H2G 1K7             5    4.0    QC  "
      ]
     },
     "execution_count": 4,
     "metadata": {},
     "output_type": "execute_result"
    }
   ],
   "source": [
    "df.head(3)"
   ]
  },
  {
   "cell_type": "code",
   "execution_count": 5,
   "metadata": {},
   "outputs": [
    {
     "data": {
      "text/plain": [
       "0"
      ]
     },
     "execution_count": 5,
     "metadata": {},
     "output_type": "execute_result"
    }
   ],
   "source": [
    "## We need to remove the NaN cells for Count Vectorizer to work.\n",
    "df.categories.isna().sum()\n",
    "df.categories = df.categories.fillna('supercali')     # Arbitrary word ro replace NaN\n",
    "df.categories.isna().sum()"
   ]
  },
  {
   "cell_type": "code",
   "execution_count": 6,
   "metadata": {},
   "outputs": [],
   "source": [
    "cvec = CountVectorizer()\n",
    "cvec = cvec.fit(df['categories'])\n",
    "df_vec = pd.DataFrame(cvec.transform(df['categories']).todense(), columns=cvec.get_feature_names())"
   ]
  },
  {
   "cell_type": "code",
   "execution_count": 7,
   "metadata": {},
   "outputs": [
    {
     "data": {
      "text/plain": [
       "(188593, 1393)"
      ]
     },
     "execution_count": 7,
     "metadata": {},
     "output_type": "execute_result"
    }
   ],
   "source": [
    "df_vec.shape"
   ]
  },
  {
   "cell_type": "code",
   "execution_count": 8,
   "metadata": {},
   "outputs": [
    {
     "data": {
      "text/plain": [
       "1393"
      ]
     },
     "execution_count": 8,
     "metadata": {},
     "output_type": "execute_result"
    }
   ],
   "source": [
    "len(df_vec.columns)"
   ]
  },
  {
   "cell_type": "code",
   "execution_count": 9,
   "metadata": {},
   "outputs": [],
   "source": [
    "## Top 100 business types according to Count Vectorizer.\n",
    "## With Count Vectorizer business types labels do not match the labels from the dataset\n",
    "## e.g. 'beauty and spas' becomes two different categories.\n",
    "#top_100 = df_vec.sum().sort_values(ascending=False).head(50).tolist\n",
    "#top_100"
   ]
  },
  {
   "cell_type": "code",
   "execution_count": 11,
   "metadata": {},
   "outputs": [],
   "source": [
    "## Creating new column. Each row has a list of strings business types.\n",
    "df['categories_2'] = [i.split(',') for i in df['categories']]"
   ]
  },
  {
   "cell_type": "code",
   "execution_count": 12,
   "metadata": {},
   "outputs": [
    {
     "name": "stdout",
     "output_type": "stream",
     "text": [
      "CPU times: user 3 µs, sys: 1e+03 ns, total: 4 µs\n",
      "Wall time: 7.87 µs\n"
     ]
    }
   ],
   "source": [
    "## Creating a list containing all cleaned business types.\n",
    "%time\n",
    "business_list = []                             \n",
    "for index, value in df.categories_2.items():\n",
    "    for i in value:\n",
    "        business_list.append(i.strip())        #cleaning each business type"
   ]
  },
  {
   "cell_type": "code",
   "execution_count": 13,
   "metadata": {},
   "outputs": [],
   "source": [
    "## Examining the list.\n",
    "## business_list"
   ]
  },
  {
   "cell_type": "code",
   "execution_count": 14,
   "metadata": {},
   "outputs": [],
   "source": [
    "## Removing duplicates from the list.\n",
    "business_list_5 = set(business_list) "
   ]
  },
  {
   "cell_type": "code",
   "execution_count": 15,
   "metadata": {},
   "outputs": [
    {
     "data": {
      "text/plain": [
       "1306"
      ]
     },
     "execution_count": 15,
     "metadata": {},
     "output_type": "execute_result"
    }
   ],
   "source": [
    "## Checking lenght of list of business types without duplicates.\n",
    "len(business_list_5)"
   ]
  },
  {
   "cell_type": "code",
   "execution_count": 16,
   "metadata": {},
   "outputs": [],
   "source": [
    "#business_list_5"
   ]
  },
  {
   "cell_type": "code",
   "execution_count": 17,
   "metadata": {},
   "outputs": [],
   "source": [
    "## Creating a dictionary which has for each key = business type label, value = count.\n",
    "business_dictionary = {}\n",
    "for i in business_list_5:\n",
    "    business_dictionary[i] = 0"
   ]
  },
  {
   "cell_type": "code",
   "execution_count": 18,
   "metadata": {},
   "outputs": [
    {
     "name": "stdout",
     "output_type": "stream",
     "text": [
      "CPU times: user 3 µs, sys: 0 ns, total: 3 µs\n",
      "Wall time: 6.91 µs\n"
     ]
    }
   ],
   "source": [
    "## Updating dictionary with right count.\n",
    "%time\n",
    "for cell in df.categories_2:\n",
    "    for category in cell:\n",
    "        business_dictionary[category.strip()] += 1"
   ]
  },
  {
   "cell_type": "code",
   "execution_count": 19,
   "metadata": {},
   "outputs": [],
   "source": [
    "#business_dictionary['Cafes']"
   ]
  },
  {
   "cell_type": "code",
   "execution_count": 20,
   "metadata": {},
   "outputs": [
    {
     "data": {
      "text/plain": [
       "1306"
      ]
     },
     "execution_count": 20,
     "metadata": {},
     "output_type": "execute_result"
    }
   ],
   "source": [
    "## Checking...\n",
    "keys = business_dictionary.keys()\n",
    "len(keys)"
   ]
  },
  {
   "cell_type": "code",
   "execution_count": 21,
   "metadata": {},
   "outputs": [
    {
     "data": {
      "text/html": [
       "<div>\n",
       "<style scoped>\n",
       "    .dataframe tbody tr th:only-of-type {\n",
       "        vertical-align: middle;\n",
       "    }\n",
       "\n",
       "    .dataframe tbody tr th {\n",
       "        vertical-align: top;\n",
       "    }\n",
       "\n",
       "    .dataframe thead th {\n",
       "        text-align: right;\n",
       "    }\n",
       "</style>\n",
       "<table border=\"1\" class=\"dataframe\">\n",
       "  <thead>\n",
       "    <tr style=\"text-align: right;\">\n",
       "      <th></th>\n",
       "      <th>Count</th>\n",
       "    </tr>\n",
       "  </thead>\n",
       "  <tbody>\n",
       "    <tr>\n",
       "      <th>Restaurants</th>\n",
       "      <td>57173</td>\n",
       "    </tr>\n",
       "    <tr>\n",
       "      <th>Shopping</th>\n",
       "      <td>30231</td>\n",
       "    </tr>\n",
       "    <tr>\n",
       "      <th>Food</th>\n",
       "      <td>27118</td>\n",
       "    </tr>\n",
       "    <tr>\n",
       "      <th>Beauty &amp; Spas</th>\n",
       "      <td>18967</td>\n",
       "    </tr>\n",
       "    <tr>\n",
       "      <th>Home Services</th>\n",
       "      <td>18634</td>\n",
       "    </tr>\n",
       "  </tbody>\n",
       "</table>\n",
       "</div>"
      ],
      "text/plain": [
       "               Count\n",
       "Restaurants    57173\n",
       "Shopping       30231\n",
       "Food           27118\n",
       "Beauty & Spas  18967\n",
       "Home Services  18634"
      ]
     },
     "execution_count": 21,
     "metadata": {},
     "output_type": "execute_result"
    }
   ],
   "source": [
    "## Creating DataFrame out of the dictionary containing business types and their count.\n",
    "final = pd.DataFrame([business_dictionary])    \n",
    "final = final.T\n",
    "final = final.rename(columns={0:'Count'})\n",
    "final = final.sort_values('Count', ascending=False)\n",
    "final.head(5)"
   ]
  },
  {
   "cell_type": "code",
   "execution_count": 22,
   "metadata": {},
   "outputs": [],
   "source": [
    "#final.to_csv('./categories_count')"
   ]
  },
  {
   "cell_type": "code",
   "execution_count": 23,
   "metadata": {},
   "outputs": [],
   "source": [
    "#final = pd.read_csv('./categories_count')"
   ]
  },
  {
   "cell_type": "code",
   "execution_count": 24,
   "metadata": {},
   "outputs": [
    {
     "data": {
      "text/plain": [
       "Index(['Count'], dtype='object')"
      ]
     },
     "execution_count": 24,
     "metadata": {},
     "output_type": "execute_result"
    }
   ],
   "source": [
    "final.columns"
   ]
  },
  {
   "cell_type": "code",
   "execution_count": 25,
   "metadata": {},
   "outputs": [],
   "source": [
    "final = final.rename(columns={'Unnamed: 0': 'Category'})"
   ]
  },
  {
   "cell_type": "code",
   "execution_count": 26,
   "metadata": {},
   "outputs": [],
   "source": [
    "final.to_csv('./categories_count')"
   ]
  },
  {
   "cell_type": "code",
   "execution_count": 27,
   "metadata": {},
   "outputs": [],
   "source": [
    "#pd.read_csv('./categories_count')"
   ]
  },
  {
   "cell_type": "code",
   "execution_count": 28,
   "metadata": {},
   "outputs": [],
   "source": [
    "final_sorted = final.sort_values('Count', ascending=False)"
   ]
  },
  {
   "cell_type": "code",
   "execution_count": 29,
   "metadata": {},
   "outputs": [],
   "source": [
    "## Defining variable macro categories\n",
    "macro_categories = ['Active Life','Arts & Entertainment','Automotive','Beauty & Spas',\n",
    "'Education','Event Planning & Services','Financial Services','Food','Health & Medical',\n",
    "'Home Services','Hotels & Travel','Local Services','Mass Media','Nightlife','Pets',\n",
    "'Professional Services','Public Services & Government','Real estate','Religious Organizations',\n",
    "'Restaurants','Shopping', 'Prova']"
   ]
  },
  {
   "cell_type": "code",
   "execution_count": 30,
   "metadata": {},
   "outputs": [
    {
     "data": {
      "text/html": [
       "<div>\n",
       "<style scoped>\n",
       "    .dataframe tbody tr th:only-of-type {\n",
       "        vertical-align: middle;\n",
       "    }\n",
       "\n",
       "    .dataframe tbody tr th {\n",
       "        vertical-align: top;\n",
       "    }\n",
       "\n",
       "    .dataframe thead th {\n",
       "        text-align: right;\n",
       "    }\n",
       "</style>\n",
       "<table border=\"1\" class=\"dataframe\">\n",
       "  <thead>\n",
       "    <tr style=\"text-align: right;\">\n",
       "      <th></th>\n",
       "      <th>Count</th>\n",
       "    </tr>\n",
       "  </thead>\n",
       "  <tbody>\n",
       "    <tr>\n",
       "      <th>Restaurants</th>\n",
       "      <td>57173</td>\n",
       "    </tr>\n",
       "    <tr>\n",
       "      <th>Shopping</th>\n",
       "      <td>30231</td>\n",
       "    </tr>\n",
       "    <tr>\n",
       "      <th>Food</th>\n",
       "      <td>27118</td>\n",
       "    </tr>\n",
       "  </tbody>\n",
       "</table>\n",
       "</div>"
      ],
      "text/plain": [
       "             Count\n",
       "Restaurants  57173\n",
       "Shopping     30231\n",
       "Food         27118"
      ]
     },
     "execution_count": 30,
     "metadata": {},
     "output_type": "execute_result"
    }
   ],
   "source": [
    "top_150 = final.sort_values('Count', ascending=False)[0:151]\n",
    "top_150.head(3)"
   ]
  },
  {
   "cell_type": "code",
   "execution_count": 33,
   "metadata": {},
   "outputs": [
    {
     "data": {
      "text/plain": [
       "Restaurants    57173\n",
       "Shopping       30231\n",
       "Food           27118\n",
       "Name: Count, dtype: int64"
      ]
     },
     "execution_count": 33,
     "metadata": {},
     "output_type": "execute_result"
    }
   ],
   "source": [
    "top_150['Count'][0:3]"
   ]
  },
  {
   "cell_type": "code",
   "execution_count": 34,
   "metadata": {},
   "outputs": [],
   "source": [
    "## Which macro categories are not in the top 150 titles?\n",
    "macro_not_in_top_150 = ['Mass Media', 'Real estate', 'Religious Organizations']"
   ]
  },
  {
   "cell_type": "code",
   "execution_count": 36,
   "metadata": {},
   "outputs": [],
   "source": [
    "top_150 = top_150['Count'].tolist()"
   ]
  },
  {
   "cell_type": "markdown",
   "metadata": {},
   "source": [
    "# 2. Mapping titles to Macro Categories (22 in total) if title is not in top 150 titles by frequency."
   ]
  },
  {
   "cell_type": "code",
   "execution_count": 37,
   "metadata": {},
   "outputs": [
    {
     "data": {
      "text/html": [
       "<div>\n",
       "<style scoped>\n",
       "    .dataframe tbody tr th:only-of-type {\n",
       "        vertical-align: middle;\n",
       "    }\n",
       "\n",
       "    .dataframe tbody tr th {\n",
       "        vertical-align: top;\n",
       "    }\n",
       "\n",
       "    .dataframe thead th {\n",
       "        text-align: right;\n",
       "    }\n",
       "</style>\n",
       "<table border=\"1\" class=\"dataframe\">\n",
       "  <thead>\n",
       "    <tr style=\"text-align: right;\">\n",
       "      <th></th>\n",
       "      <th>alias</th>\n",
       "      <th>country_blacklist</th>\n",
       "      <th>country_whitelist</th>\n",
       "      <th>parents</th>\n",
       "      <th>title</th>\n",
       "    </tr>\n",
       "  </thead>\n",
       "  <tbody>\n",
       "    <tr>\n",
       "      <th>0</th>\n",
       "      <td>3dprinting</td>\n",
       "      <td>NaN</td>\n",
       "      <td>NaN</td>\n",
       "      <td>[localservices]</td>\n",
       "      <td>3D Printing</td>\n",
       "    </tr>\n",
       "    <tr>\n",
       "      <th>1</th>\n",
       "      <td>abruzzese</td>\n",
       "      <td>NaN</td>\n",
       "      <td>[IT]</td>\n",
       "      <td>[italian]</td>\n",
       "      <td>Abruzzese</td>\n",
       "    </tr>\n",
       "    <tr>\n",
       "      <th>2</th>\n",
       "      <td>absinthebars</td>\n",
       "      <td>NaN</td>\n",
       "      <td>[CZ]</td>\n",
       "      <td>[bars]</td>\n",
       "      <td>Absinthe Bars</td>\n",
       "    </tr>\n",
       "    <tr>\n",
       "      <th>3</th>\n",
       "      <td>acaibowls</td>\n",
       "      <td>[TR, AR, IT, MX, PL, CL]</td>\n",
       "      <td>NaN</td>\n",
       "      <td>[food]</td>\n",
       "      <td>Acai Bowls</td>\n",
       "    </tr>\n",
       "    <tr>\n",
       "      <th>4</th>\n",
       "      <td>accessories</td>\n",
       "      <td>NaN</td>\n",
       "      <td>NaN</td>\n",
       "      <td>[fashion]</td>\n",
       "      <td>Accessories</td>\n",
       "    </tr>\n",
       "  </tbody>\n",
       "</table>\n",
       "</div>"
      ],
      "text/plain": [
       "          alias         country_blacklist country_whitelist          parents  \\\n",
       "0    3dprinting                       NaN               NaN  [localservices]   \n",
       "1     abruzzese                       NaN              [IT]        [italian]   \n",
       "2  absinthebars                       NaN              [CZ]           [bars]   \n",
       "3     acaibowls  [TR, AR, IT, MX, PL, CL]               NaN           [food]   \n",
       "4   accessories                       NaN               NaN        [fashion]   \n",
       "\n",
       "           title  \n",
       "0    3D Printing  \n",
       "1      Abruzzese  \n",
       "2  Absinthe Bars  \n",
       "3     Acai Bowls  \n",
       "4    Accessories  "
      ]
     },
     "execution_count": 37,
     "metadata": {},
     "output_type": "execute_result"
    }
   ],
   "source": [
    "## Import the complete list of categories labels.\n",
    "cat = pd.read_json('./categories.json', orient='records')\n",
    "cat.head(5)"
   ]
  },
  {
   "cell_type": "code",
   "execution_count": 49,
   "metadata": {},
   "outputs": [
    {
     "data": {
      "text/plain": [
       "121"
      ]
     },
     "execution_count": 49,
     "metadata": {},
     "output_type": "execute_result"
    }
   ],
   "source": [
    "## Creating sub macro category list - which includes also macro categories!\n",
    "\n",
    "sub_master_list = []                         #instantiate empty container\n",
    "for i in cat.parents:                        #iterate over each cell == list in column parent\n",
    "    for y in i:                              #iterate over each list element\n",
    "        sub_master_list.append(y)            #append each element to list containers\n",
    "        \n",
    "sub_master_list = list(set(sub_master_list)) #deleting duplicates\n",
    "sub_master_list.sort()                       #sorting\n",
    "len(sub_master_list)                         #checking"
   ]
  },
  {
   "cell_type": "code",
   "execution_count": 50,
   "metadata": {},
   "outputs": [],
   "source": [
    "## Creating list of macro categories\n",
    "## Macrocategories are titles whose corresponding 'parents' list is empty.\n",
    "\n",
    "master_list = []                             #instantiate empty container\n",
    "for index, value in enumerate(cat.title):    #iterate over each cell in column title\n",
    "    if cat.parents.iloc[index] == []:                 #if title value has no parent\n",
    "        master_list.append(value)            #append to list container\n",
    "#master_list"
   ]
  },
  {
   "cell_type": "code",
   "execution_count": 51,
   "metadata": {},
   "outputs": [],
   "source": [
    "## Making strings in master list comparable to elements in sub master list \n",
    "master_list_minnospace = [i.lower().replace(' ', '') for i in master_list]\n",
    "#master_list_minnospace"
   ]
  },
  {
   "cell_type": "code",
   "execution_count": 52,
   "metadata": {},
   "outputs": [
    {
     "data": {
      "text/plain": [
       "['bicycles',\n",
       " 'education',\n",
       " 'financialservices',\n",
       " 'food',\n",
       " 'homeservices',\n",
       " 'localflavor',\n",
       " 'localservices',\n",
       " 'massmedia',\n",
       " 'nightlife',\n",
       " 'pets',\n",
       " 'restaurants',\n",
       " 'shopping']"
      ]
     },
     "execution_count": 52,
     "metadata": {},
     "output_type": "execute_result"
    }
   ],
   "source": [
    "## Displaying master categories found in sub master list\n",
    "master_list_parent_format = []\n",
    "for i in sub_master_list:\n",
    "    if i in master_list_minnospace:\n",
    "        master_list_parent_format.append(i)\n",
    "master_list_parent_format"
   ]
  },
  {
   "cell_type": "code",
   "execution_count": 53,
   "metadata": {},
   "outputs": [],
   "source": [
    "## Manually creating macro categories not identified in sub master list\n",
    "missing_macro_categories = ['active', 'arts', 'auto', 'beautysvc', 'eventservices',\n",
    "                            'health', 'hotelstravel', 'professional',\n",
    "                           'publicservices&government', 'religiousorganizations']\n",
    "\n",
    "## Adding missing_macro_categories to master list in 'parent' format\n",
    "## Now we have a complete list of master categories written in 'parent format'\n",
    "master_list_parent_format = missing_macro_categories + master_list_parent_format"
   ]
  },
  {
   "cell_type": "code",
   "execution_count": 54,
   "metadata": {},
   "outputs": [
    {
     "data": {
      "text/plain": [
       "22"
      ]
     },
     "execution_count": 54,
     "metadata": {},
     "output_type": "execute_result"
    }
   ],
   "source": [
    "## Checking\n",
    "len(master_list_parent_format)\n",
    "len(master_list)"
   ]
  },
  {
   "cell_type": "code",
   "execution_count": 55,
   "metadata": {},
   "outputs": [],
   "source": [
    "#master_list"
   ]
  },
  {
   "cell_type": "code",
   "execution_count": 56,
   "metadata": {},
   "outputs": [],
   "source": [
    "#master_list_parent_format"
   ]
  },
  {
   "cell_type": "code",
   "execution_count": 57,
   "metadata": {},
   "outputs": [],
   "source": [
    "## Create dictionary level 1: 22 k, 121 v\n",
    "## Create function that first iterates dict level 2, than level 1 to assign position"
   ]
  },
  {
   "cell_type": "code",
   "execution_count": 58,
   "metadata": {},
   "outputs": [
    {
     "name": "stdout",
     "output_type": "stream",
     "text": [
      "Active Life\n",
      "Arts & Entertainment\n",
      "Automotive\n",
      "Beauty & Spas\n",
      "Bicycles\n",
      "Education\n",
      "Event Planning & Services\n",
      "Financial Services\n",
      "Food\n",
      "Health & Medical\n",
      "Home Services\n",
      "Hotels & Travel\n",
      "Local Flavor\n",
      "Local Services\n",
      "Mass Media\n",
      "Nightlife\n",
      "Pets\n",
      "Professional Services\n",
      "Public Services & Government\n",
      "Religious Organizations\n",
      "Restaurants\n",
      "Shopping\n"
     ]
    }
   ],
   "source": [
    "## Create dictionary level 2: 121 keys (macro and sub macro categories), 1565 values\n",
    "dict_2 = {}\n",
    "for i in sub_master_list:\n",
    "    dict_2[i] = []\n",
    "    \n",
    "for row, cell in enumerate(cat.title):\n",
    "    try:\n",
    "        parent = cat.parents[row]\n",
    "        parent = parent[0]\n",
    "        dict_2[parent].append(cell)\n",
    "    except:\n",
    "        print(cell)"
   ]
  },
  {
   "cell_type": "code",
   "execution_count": 60,
   "metadata": {},
   "outputs": [],
   "source": [
    "## Create dictionary level 1: 22 k, 121 v\n",
    "dict_1 = {}\n",
    "for i in master_list:\n",
    "    dict_1[i] = []"
   ]
  },
  {
   "cell_type": "code",
   "execution_count": 62,
   "metadata": {},
   "outputs": [],
   "source": [
    "## Add manually sub_cat_list to dict_1 values\n",
    "dict_1 = {'Active Life': ['active', 'diving', 'fitness', 'gyms', 'martialarts', 'othersalons', 'parks','zoos'],\n",
    " 'Arts & Entertainment': ['arts', 'farms', 'festivals', 'movietheaters', 'museums', 'psychic_astrology','social_clubs', 'wineries'],\n",
    " 'Automotive': ['auto', 'autoglass', 'autopartssupplies', 'autorepair'],\n",
    " 'Beauty & Spas': ['beautysvc', 'hair', 'hairremoval', 'medicalspa', 'skincare', 'tanning'],\n",
    " 'Bicycles': ['bicycles'],\n",
    " 'Education': ['artclasses', 'education', 'specialtyschools', 'tastingclasses'],\n",
    " 'Event Planning & Services': ['eventservices', 'partyequipmentrentals', 'photographers'],\n",
    " 'Financial Services': ['financialservices', 'insurance'],\n",
    " 'Food': ['breweries', 'food', 'gourmet', 'jpsweets'],\n",
    " 'Health & Medical': ['c_and_mh', 'cannabis_clinics', 'crisispregnancycenters', 'dentalhygienists', 'diagnosticservices', 'dentists', 'health', 'medcenters', 'opthamalogists', 'physicians'],\n",
    " 'Home Services': ['homeservices', 'landscaping', 'plumbing', 'realestateagents', 'realestatesvcs', 'tcm', 'utilities'],\n",
    " 'Hotels & Travel': ['airports', 'hotels', 'hotelstravel', 'tours',  'transport', 'travelservices'],\n",
    " 'Local Flavor': ['localflavor'],\n",
    " 'Local Services': ['funeralservices', 'itservices', 'junkremovalandhauling', 'laundryservices', 'localservices', 'nonprofit'],\n",
    " 'Mass Media': ['massmedia'],\n",
    " 'Nightlife': ['bars', 'nightlife', 'adultentertainment',],\n",
    " 'Pets': ['pet_sitting', 'pets', 'petservices', 'petstore'],\n",
    " 'Professional Services': ['estateplanning', 'lawyers', 'legalservices', 'professional', 'wholesalers'],\n",
    " 'Public Services & Government': ['publicservicesgovt'],\n",
    " 'Religious Organizations': ['religiousorgs'],\n",
    " 'Restaurants': ['african', 'arabian', 'belgian', 'brazilian', 'breakfast_brunch', 'caribbean', 'cafes', 'chinese', 'donburi', 'french', 'german', 'italian', 'japanese', 'latin', 'malaysian', 'mediterranean', 'mexican', 'mideastern', 'polish', 'portuguese', 'restaurants', 'spanish', 'turkish', ],\n",
    " 'Shopping': ['artsandcrafts', 'fashion', 'flowers', 'gardening','homeandgarden', 'kitchenandbath', 'media', 'musicinstrumentservices', 'opticians', 'shopping','sportgoods', 'sportswear']}"
   ]
  },
  {
   "cell_type": "code",
   "execution_count": 63,
   "metadata": {},
   "outputs": [],
   "source": [
    "## Reversing Key Value Pairs in dict_2\n",
    "dict_2B = {}\n",
    "for k, v in dict_2.items():\n",
    "    for i in v:\n",
    "        dict_2B[i] = k"
   ]
  },
  {
   "cell_type": "code",
   "execution_count": 64,
   "metadata": {},
   "outputs": [],
   "source": [
    "## Reversing Key Value Pairs in dict_1\n",
    "dict_2A = {}\n",
    "for k, v in dict_1.items():\n",
    "    for i in v:\n",
    "        dict_2A[i] = k"
   ]
  },
  {
   "cell_type": "code",
   "execution_count": 65,
   "metadata": {},
   "outputs": [],
   "source": [
    "def map_category(category):\n",
    "    if category not in top_150:\n",
    "        if category in dict_2B.keys():\n",
    "            title = dict_2B[category]\n",
    "        else:\n",
    "            title = category\n",
    "        if title in dict_2A.keys():\n",
    "            title_2 = dict_2A[title]\n",
    "            return(title_2)\n",
    "        else:\n",
    "            return(title)\n",
    "    else:\n",
    "        return(category)"
   ]
  },
  {
   "cell_type": "code",
   "execution_count": 66,
   "metadata": {},
   "outputs": [],
   "source": [
    "## Applying mapping functiomn to dataset\n",
    "cat['title_3'] = cat['country_blacklist']                      # adding a column to our df by copying an existing one\n",
    "for index, cell in enumerate(cat['title']):                    \n",
    "    cat['title_3'][index] = map_category(cat['title'][index])"
   ]
  },
  {
   "cell_type": "code",
   "execution_count": 67,
   "metadata": {},
   "outputs": [],
   "source": [
    "result = []\n",
    "for word in top_150:\n",
    "    result.append(map_category(word))"
   ]
  },
  {
   "cell_type": "code",
   "execution_count": null,
   "metadata": {},
   "outputs": [],
   "source": [
    "#json.dump(dict_2B, open(\"dict_2B.json\",\"w\"))"
   ]
  },
  {
   "cell_type": "code",
   "execution_count": null,
   "metadata": {},
   "outputs": [],
   "source": [
    "#json.load('./dict_2B.json'())"
   ]
  }
 ],
 "metadata": {
  "kernelspec": {
   "display_name": "Python 3",
   "language": "python",
   "name": "python3"
  },
  "language_info": {
   "codemirror_mode": {
    "name": "ipython",
    "version": 3
   },
   "file_extension": ".py",
   "mimetype": "text/x-python",
   "name": "python",
   "nbconvert_exporter": "python",
   "pygments_lexer": "ipython3",
   "version": "3.6.6"
  }
 },
 "nbformat": 4,
 "nbformat_minor": 2
}
